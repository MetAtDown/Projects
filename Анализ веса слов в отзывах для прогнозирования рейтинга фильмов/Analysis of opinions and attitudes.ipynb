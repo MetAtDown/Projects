{
  "nbformat": 4,
  "nbformat_minor": 0,
  "metadata": {
    "colab": {
      "provenance": []
    },
    "kernelspec": {
      "name": "python3",
      "display_name": "Python 3"
    },
    "language_info": {
      "name": "python"
    }
  },
  "cells": [
    {
      "cell_type": "markdown",
      "source": [
        "# 1. Удаление пунктуации и цифр из текста. Определяем настроение людей на основе отзвывов. Преобразуем текст в векторы признаков. Создаем первую модель машинного обучения LinearSVC\n"
      ],
      "metadata": {
        "id": "x0NhqbsEw-0C"
      }
    },
    {
      "cell_type": "markdown",
      "source": [
        "Датафрейм брал тут:  https://www.kaggle.com/datasets/dmitrykartashov/brfrd1-big-russian-film-review-dataset-1"
      ],
      "metadata": {
        "id": "QwCDIRMK8yl1"
      }
    },
    {
      "cell_type": "code",
      "execution_count": null,
      "metadata": {
        "colab": {
          "base_uri": "https://localhost:8080/"
        },
        "id": "Gg4AAZdTfCP0",
        "outputId": "b0e069a0-f180-4184-fa58-f3fa766ec5c2"
      },
      "outputs": [
        {
          "output_type": "stream",
          "name": "stdout",
          "text": [
            "Drive already mounted at /content/gdrive; to attempt to forcibly remount, call drive.mount(\"/content/gdrive\", force_remount=True).\n"
          ]
        }
      ],
      "source": [
        "from google.colab import drive\n",
        "drive.mount('/content/gdrive')"
      ]
    },
    {
      "cell_type": "code",
      "source": [
        "# Импортируем необходимые библиотеки\n",
        "import matplotlib.pyplot as plt\n",
        "import seaborn as sns\n",
        "import pandas as pd\n",
        "import numpy as np\n",
        "import nltk\n",
        "from nltk.probability import FreqDist\n",
        "from nltk.corpus import stopwords\n",
        "from sklearn.feature_extraction.text import TfidfVectorizer\n",
        "from sklearn.model_selection import train_test_split\n",
        "from sklearn.metrics import accuracy_score, confusion_matrix\n",
        "from sklearn.svm import LinearSVC\n",
        "import string\n",
        "import re"
      ],
      "metadata": {
        "id": "w03p_J6MfJMp"
      },
      "execution_count": null,
      "outputs": []
    },
    {
      "cell_type": "code",
      "source": [
        "# Загружаем данные\n",
        "df = pd.read_csv('/content/gdrive/MyDrive/Dataset/BRFRD.csv')"
      ],
      "metadata": {
        "id": "kAcjbQQafOfk"
      },
      "execution_count": null,
      "outputs": []
    },
    {
      "cell_type": "markdown",
      "source": [
        "Смотрим датафрейм. В данном случае в датафрейме нет пустых значений (null) и все колонки приведены к общему виду (начинаются с маленькой буквы, без лишних знаков)"
      ],
      "metadata": {
        "id": "KrEmpT-n1VqK"
      }
    },
    {
      "cell_type": "code",
      "source": [
        "# Смотрим информацию о датафрейме\n",
        "df.info()\n",
        "df.describe()"
      ],
      "metadata": {
        "colab": {
          "base_uri": "https://localhost:8080/",
          "height": 491
        },
        "id": "QsDDru2axp5F",
        "outputId": "456b4a8a-2c93-49f7-e298-0707378d90ad"
      },
      "execution_count": null,
      "outputs": [
        {
          "output_type": "stream",
          "name": "stdout",
          "text": [
            "<class 'pandas.core.frame.DataFrame'>\n",
            "RangeIndex: 27320 entries, 0 to 27319\n",
            "Data columns (total 4 columns):\n",
            " #   Column           Non-Null Count  Dtype \n",
            "---  ------           --------------  ----- \n",
            " 0   review           27320 non-null  object\n",
            " 1   rating           27320 non-null  int64 \n",
            " 2   published        27320 non-null  object\n",
            " 3   full review url  27320 non-null  object\n",
            "dtypes: int64(1), object(3)\n",
            "memory usage: 853.9+ KB\n"
          ]
        },
        {
          "output_type": "execute_result",
          "data": {
            "text/plain": [
              "             rating\n",
              "count  27320.000000\n",
              "mean      71.234407\n",
              "std       20.154895\n",
              "min       10.000000\n",
              "25%       50.000000\n",
              "50%       80.000000\n",
              "75%       80.000000\n",
              "max      100.000000"
            ],
            "text/html": [
              "\n",
              "  <div id=\"df-23a8cd98-77ba-484c-89c8-7f1d0eac8016\">\n",
              "    <div class=\"colab-df-container\">\n",
              "      <div>\n",
              "<style scoped>\n",
              "    .dataframe tbody tr th:only-of-type {\n",
              "        vertical-align: middle;\n",
              "    }\n",
              "\n",
              "    .dataframe tbody tr th {\n",
              "        vertical-align: top;\n",
              "    }\n",
              "\n",
              "    .dataframe thead th {\n",
              "        text-align: right;\n",
              "    }\n",
              "</style>\n",
              "<table border=\"1\" class=\"dataframe\">\n",
              "  <thead>\n",
              "    <tr style=\"text-align: right;\">\n",
              "      <th></th>\n",
              "      <th>rating</th>\n",
              "    </tr>\n",
              "  </thead>\n",
              "  <tbody>\n",
              "    <tr>\n",
              "      <th>count</th>\n",
              "      <td>27320.000000</td>\n",
              "    </tr>\n",
              "    <tr>\n",
              "      <th>mean</th>\n",
              "      <td>71.234407</td>\n",
              "    </tr>\n",
              "    <tr>\n",
              "      <th>std</th>\n",
              "      <td>20.154895</td>\n",
              "    </tr>\n",
              "    <tr>\n",
              "      <th>min</th>\n",
              "      <td>10.000000</td>\n",
              "    </tr>\n",
              "    <tr>\n",
              "      <th>25%</th>\n",
              "      <td>50.000000</td>\n",
              "    </tr>\n",
              "    <tr>\n",
              "      <th>50%</th>\n",
              "      <td>80.000000</td>\n",
              "    </tr>\n",
              "    <tr>\n",
              "      <th>75%</th>\n",
              "      <td>80.000000</td>\n",
              "    </tr>\n",
              "    <tr>\n",
              "      <th>max</th>\n",
              "      <td>100.000000</td>\n",
              "    </tr>\n",
              "  </tbody>\n",
              "</table>\n",
              "</div>\n",
              "      <button class=\"colab-df-convert\" onclick=\"convertToInteractive('df-23a8cd98-77ba-484c-89c8-7f1d0eac8016')\"\n",
              "              title=\"Convert this dataframe to an interactive table.\"\n",
              "              style=\"display:none;\">\n",
              "        \n",
              "  <svg xmlns=\"http://www.w3.org/2000/svg\" height=\"24px\"viewBox=\"0 0 24 24\"\n",
              "       width=\"24px\">\n",
              "    <path d=\"M0 0h24v24H0V0z\" fill=\"none\"/>\n",
              "    <path d=\"M18.56 5.44l.94 2.06.94-2.06 2.06-.94-2.06-.94-.94-2.06-.94 2.06-2.06.94zm-11 1L8.5 8.5l.94-2.06 2.06-.94-2.06-.94L8.5 2.5l-.94 2.06-2.06.94zm10 10l.94 2.06.94-2.06 2.06-.94-2.06-.94-.94-2.06-.94 2.06-2.06.94z\"/><path d=\"M17.41 7.96l-1.37-1.37c-.4-.4-.92-.59-1.43-.59-.52 0-1.04.2-1.43.59L10.3 9.45l-7.72 7.72c-.78.78-.78 2.05 0 2.83L4 21.41c.39.39.9.59 1.41.59.51 0 1.02-.2 1.41-.59l7.78-7.78 2.81-2.81c.8-.78.8-2.07 0-2.86zM5.41 20L4 18.59l7.72-7.72 1.47 1.35L5.41 20z\"/>\n",
              "  </svg>\n",
              "      </button>\n",
              "      \n",
              "  <style>\n",
              "    .colab-df-container {\n",
              "      display:flex;\n",
              "      flex-wrap:wrap;\n",
              "      gap: 12px;\n",
              "    }\n",
              "\n",
              "    .colab-df-convert {\n",
              "      background-color: #E8F0FE;\n",
              "      border: none;\n",
              "      border-radius: 50%;\n",
              "      cursor: pointer;\n",
              "      display: none;\n",
              "      fill: #1967D2;\n",
              "      height: 32px;\n",
              "      padding: 0 0 0 0;\n",
              "      width: 32px;\n",
              "    }\n",
              "\n",
              "    .colab-df-convert:hover {\n",
              "      background-color: #E2EBFA;\n",
              "      box-shadow: 0px 1px 2px rgba(60, 64, 67, 0.3), 0px 1px 3px 1px rgba(60, 64, 67, 0.15);\n",
              "      fill: #174EA6;\n",
              "    }\n",
              "\n",
              "    [theme=dark] .colab-df-convert {\n",
              "      background-color: #3B4455;\n",
              "      fill: #D2E3FC;\n",
              "    }\n",
              "\n",
              "    [theme=dark] .colab-df-convert:hover {\n",
              "      background-color: #434B5C;\n",
              "      box-shadow: 0px 1px 3px 1px rgba(0, 0, 0, 0.15);\n",
              "      filter: drop-shadow(0px 1px 2px rgba(0, 0, 0, 0.3));\n",
              "      fill: #FFFFFF;\n",
              "    }\n",
              "  </style>\n",
              "\n",
              "      <script>\n",
              "        const buttonEl =\n",
              "          document.querySelector('#df-23a8cd98-77ba-484c-89c8-7f1d0eac8016 button.colab-df-convert');\n",
              "        buttonEl.style.display =\n",
              "          google.colab.kernel.accessAllowed ? 'block' : 'none';\n",
              "\n",
              "        async function convertToInteractive(key) {\n",
              "          const element = document.querySelector('#df-23a8cd98-77ba-484c-89c8-7f1d0eac8016');\n",
              "          const dataTable =\n",
              "            await google.colab.kernel.invokeFunction('convertToInteractive',\n",
              "                                                     [key], {});\n",
              "          if (!dataTable) return;\n",
              "\n",
              "          const docLinkHtml = 'Like what you see? Visit the ' +\n",
              "            '<a target=\"_blank\" href=https://colab.research.google.com/notebooks/data_table.ipynb>data table notebook</a>'\n",
              "            + ' to learn more about interactive tables.';\n",
              "          element.innerHTML = '';\n",
              "          dataTable['output_type'] = 'display_data';\n",
              "          await google.colab.output.renderOutput(dataTable, element);\n",
              "          const docLink = document.createElement('div');\n",
              "          docLink.innerHTML = docLinkHtml;\n",
              "          element.appendChild(docLink);\n",
              "        }\n",
              "      </script>\n",
              "    </div>\n",
              "  </div>\n",
              "  "
            ]
          },
          "metadata": {},
          "execution_count": 4
        }
      ]
    },
    {
      "cell_type": "code",
      "source": [
        "# Смотрим датафрейм\n",
        "df"
      ],
      "metadata": {
        "colab": {
          "base_uri": "https://localhost:8080/",
          "height": 424
        },
        "id": "L-fA8VAPpxh5",
        "outputId": "bf9b7d5b-f856-4dce-ecc8-2adabffd624b"
      },
      "execution_count": null,
      "outputs": [
        {
          "output_type": "execute_result",
          "data": {
            "text/plain": [
              "                                                  review  rating  published  \\\n",
              "0      «Головоломка» — продукт универсальный, и, чтоб...      90  2015-6-22   \n",
              "1      А если подвести итоги, то Пиксар создал, не по...     100  2015-6-18   \n",
              "2      И все же плюсы «Головоломки» перевешивают ее м...     100  2015-6-19   \n",
              "3      На выходе из зала есть ощущение, что Pixar сде...     100  2015-6-18   \n",
              "4      Да, перед нами настоящий, старой школы пиксаро...     100  2015-6-16   \n",
              "...                                                  ...     ...        ...   \n",
              "27315  Самая большая беда «Сигнала» - это занудство ч...      50  2014-8-31   \n",
              "27316  Лоренс Фишбёрн в скафандре, гуляющий в режиме ...      60  2014-8-31   \n",
              "27317  И оно и страшно, и увлекательно одновременно, ...      80   2014-9-5   \n",
              "27318  Уилльям Юбанк, молодой режиссер, начинавший (ч...      60   2014-9-5   \n",
              "27319  Итак, «Сигнал» есть очередная незапоминающаяся...      50   2014-9-7   \n",
              "\n",
              "                                         full review url  \n",
              "0                  http://www.kino-mir.ru/posts/view/147  \n",
              "1        https://www.uralweb.ru/poster/reviews/6694.html  \n",
              "2      http://www.tramvision.ru/recensia/2015/golovol...  \n",
              "3                http://afisha.ngs.ru/news/more/2181412/  \n",
              "4      http://www.kinokadr.ru/articles/2015/06/17/ins...  \n",
              "...                                                  ...  \n",
              "27315         http://www.kino-teatr.ru/kino/art/pr/3573/  \n",
              "27316               http://www.intermedia.ru/news/263759  \n",
              "27317  http://www.the-village.ru/village/weekend/film...  \n",
              "27318   http://www.afisha.ru/movie/221968/review/558346/  \n",
              "27319  http://www.kino-govno.com/movies/signal2014/re...  \n",
              "\n",
              "[27320 rows x 4 columns]"
            ],
            "text/html": [
              "\n",
              "  <div id=\"df-222a5f58-38ab-401e-a348-6f7c1705b794\">\n",
              "    <div class=\"colab-df-container\">\n",
              "      <div>\n",
              "<style scoped>\n",
              "    .dataframe tbody tr th:only-of-type {\n",
              "        vertical-align: middle;\n",
              "    }\n",
              "\n",
              "    .dataframe tbody tr th {\n",
              "        vertical-align: top;\n",
              "    }\n",
              "\n",
              "    .dataframe thead th {\n",
              "        text-align: right;\n",
              "    }\n",
              "</style>\n",
              "<table border=\"1\" class=\"dataframe\">\n",
              "  <thead>\n",
              "    <tr style=\"text-align: right;\">\n",
              "      <th></th>\n",
              "      <th>review</th>\n",
              "      <th>rating</th>\n",
              "      <th>published</th>\n",
              "      <th>full review url</th>\n",
              "    </tr>\n",
              "  </thead>\n",
              "  <tbody>\n",
              "    <tr>\n",
              "      <th>0</th>\n",
              "      <td>«Головоломка» — продукт универсальный, и, чтоб...</td>\n",
              "      <td>90</td>\n",
              "      <td>2015-6-22</td>\n",
              "      <td>http://www.kino-mir.ru/posts/view/147</td>\n",
              "    </tr>\n",
              "    <tr>\n",
              "      <th>1</th>\n",
              "      <td>А если подвести итоги, то Пиксар создал, не по...</td>\n",
              "      <td>100</td>\n",
              "      <td>2015-6-18</td>\n",
              "      <td>https://www.uralweb.ru/poster/reviews/6694.html</td>\n",
              "    </tr>\n",
              "    <tr>\n",
              "      <th>2</th>\n",
              "      <td>И все же плюсы «Головоломки» перевешивают ее м...</td>\n",
              "      <td>100</td>\n",
              "      <td>2015-6-19</td>\n",
              "      <td>http://www.tramvision.ru/recensia/2015/golovol...</td>\n",
              "    </tr>\n",
              "    <tr>\n",
              "      <th>3</th>\n",
              "      <td>На выходе из зала есть ощущение, что Pixar сде...</td>\n",
              "      <td>100</td>\n",
              "      <td>2015-6-18</td>\n",
              "      <td>http://afisha.ngs.ru/news/more/2181412/</td>\n",
              "    </tr>\n",
              "    <tr>\n",
              "      <th>4</th>\n",
              "      <td>Да, перед нами настоящий, старой школы пиксаро...</td>\n",
              "      <td>100</td>\n",
              "      <td>2015-6-16</td>\n",
              "      <td>http://www.kinokadr.ru/articles/2015/06/17/ins...</td>\n",
              "    </tr>\n",
              "    <tr>\n",
              "      <th>...</th>\n",
              "      <td>...</td>\n",
              "      <td>...</td>\n",
              "      <td>...</td>\n",
              "      <td>...</td>\n",
              "    </tr>\n",
              "    <tr>\n",
              "      <th>27315</th>\n",
              "      <td>Самая большая беда «Сигнала» - это занудство ч...</td>\n",
              "      <td>50</td>\n",
              "      <td>2014-8-31</td>\n",
              "      <td>http://www.kino-teatr.ru/kino/art/pr/3573/</td>\n",
              "    </tr>\n",
              "    <tr>\n",
              "      <th>27316</th>\n",
              "      <td>Лоренс Фишбёрн в скафандре, гуляющий в режиме ...</td>\n",
              "      <td>60</td>\n",
              "      <td>2014-8-31</td>\n",
              "      <td>http://www.intermedia.ru/news/263759</td>\n",
              "    </tr>\n",
              "    <tr>\n",
              "      <th>27317</th>\n",
              "      <td>И оно и страшно, и увлекательно одновременно, ...</td>\n",
              "      <td>80</td>\n",
              "      <td>2014-9-5</td>\n",
              "      <td>http://www.the-village.ru/village/weekend/film...</td>\n",
              "    </tr>\n",
              "    <tr>\n",
              "      <th>27318</th>\n",
              "      <td>Уилльям Юбанк, молодой режиссер, начинавший (ч...</td>\n",
              "      <td>60</td>\n",
              "      <td>2014-9-5</td>\n",
              "      <td>http://www.afisha.ru/movie/221968/review/558346/</td>\n",
              "    </tr>\n",
              "    <tr>\n",
              "      <th>27319</th>\n",
              "      <td>Итак, «Сигнал» есть очередная незапоминающаяся...</td>\n",
              "      <td>50</td>\n",
              "      <td>2014-9-7</td>\n",
              "      <td>http://www.kino-govno.com/movies/signal2014/re...</td>\n",
              "    </tr>\n",
              "  </tbody>\n",
              "</table>\n",
              "<p>27320 rows × 4 columns</p>\n",
              "</div>\n",
              "      <button class=\"colab-df-convert\" onclick=\"convertToInteractive('df-222a5f58-38ab-401e-a348-6f7c1705b794')\"\n",
              "              title=\"Convert this dataframe to an interactive table.\"\n",
              "              style=\"display:none;\">\n",
              "        \n",
              "  <svg xmlns=\"http://www.w3.org/2000/svg\" height=\"24px\"viewBox=\"0 0 24 24\"\n",
              "       width=\"24px\">\n",
              "    <path d=\"M0 0h24v24H0V0z\" fill=\"none\"/>\n",
              "    <path d=\"M18.56 5.44l.94 2.06.94-2.06 2.06-.94-2.06-.94-.94-2.06-.94 2.06-2.06.94zm-11 1L8.5 8.5l.94-2.06 2.06-.94-2.06-.94L8.5 2.5l-.94 2.06-2.06.94zm10 10l.94 2.06.94-2.06 2.06-.94-2.06-.94-.94-2.06-.94 2.06-2.06.94z\"/><path d=\"M17.41 7.96l-1.37-1.37c-.4-.4-.92-.59-1.43-.59-.52 0-1.04.2-1.43.59L10.3 9.45l-7.72 7.72c-.78.78-.78 2.05 0 2.83L4 21.41c.39.39.9.59 1.41.59.51 0 1.02-.2 1.41-.59l7.78-7.78 2.81-2.81c.8-.78.8-2.07 0-2.86zM5.41 20L4 18.59l7.72-7.72 1.47 1.35L5.41 20z\"/>\n",
              "  </svg>\n",
              "      </button>\n",
              "      \n",
              "  <style>\n",
              "    .colab-df-container {\n",
              "      display:flex;\n",
              "      flex-wrap:wrap;\n",
              "      gap: 12px;\n",
              "    }\n",
              "\n",
              "    .colab-df-convert {\n",
              "      background-color: #E8F0FE;\n",
              "      border: none;\n",
              "      border-radius: 50%;\n",
              "      cursor: pointer;\n",
              "      display: none;\n",
              "      fill: #1967D2;\n",
              "      height: 32px;\n",
              "      padding: 0 0 0 0;\n",
              "      width: 32px;\n",
              "    }\n",
              "\n",
              "    .colab-df-convert:hover {\n",
              "      background-color: #E2EBFA;\n",
              "      box-shadow: 0px 1px 2px rgba(60, 64, 67, 0.3), 0px 1px 3px 1px rgba(60, 64, 67, 0.15);\n",
              "      fill: #174EA6;\n",
              "    }\n",
              "\n",
              "    [theme=dark] .colab-df-convert {\n",
              "      background-color: #3B4455;\n",
              "      fill: #D2E3FC;\n",
              "    }\n",
              "\n",
              "    [theme=dark] .colab-df-convert:hover {\n",
              "      background-color: #434B5C;\n",
              "      box-shadow: 0px 1px 3px 1px rgba(0, 0, 0, 0.15);\n",
              "      filter: drop-shadow(0px 1px 2px rgba(0, 0, 0, 0.3));\n",
              "      fill: #FFFFFF;\n",
              "    }\n",
              "  </style>\n",
              "\n",
              "      <script>\n",
              "        const buttonEl =\n",
              "          document.querySelector('#df-222a5f58-38ab-401e-a348-6f7c1705b794 button.colab-df-convert');\n",
              "        buttonEl.style.display =\n",
              "          google.colab.kernel.accessAllowed ? 'block' : 'none';\n",
              "\n",
              "        async function convertToInteractive(key) {\n",
              "          const element = document.querySelector('#df-222a5f58-38ab-401e-a348-6f7c1705b794');\n",
              "          const dataTable =\n",
              "            await google.colab.kernel.invokeFunction('convertToInteractive',\n",
              "                                                     [key], {});\n",
              "          if (!dataTable) return;\n",
              "\n",
              "          const docLinkHtml = 'Like what you see? Visit the ' +\n",
              "            '<a target=\"_blank\" href=https://colab.research.google.com/notebooks/data_table.ipynb>data table notebook</a>'\n",
              "            + ' to learn more about interactive tables.';\n",
              "          element.innerHTML = '';\n",
              "          dataTable['output_type'] = 'display_data';\n",
              "          await google.colab.output.renderOutput(dataTable, element);\n",
              "          const docLink = document.createElement('div');\n",
              "          docLink.innerHTML = docLinkHtml;\n",
              "          element.appendChild(docLink);\n",
              "        }\n",
              "      </script>\n",
              "    </div>\n",
              "  </div>\n",
              "  "
            ]
          },
          "metadata": {},
          "execution_count": 5
        }
      ]
    },
    {
      "cell_type": "markdown",
      "source": [
        "Начинаем работать над пунктуацией в датафрейме"
      ],
      "metadata": {
        "id": "x1b4X6dbc0NS"
      }
    },
    {
      "cell_type": "code",
      "source": [
        "# Функция для удаления пунктуации и цифр из текста\n",
        "def remove_punctuation(text):\n",
        "    # Удаляем пунктуацию\n",
        "    text = text.translate(str.maketrans('', '', string.punctuation))\n",
        "    # Удаляем цифры\n",
        "    text = re.sub('\\d+', '', text)\n",
        "    return text"
      ],
      "metadata": {
        "id": "tk0Bmh9OcOTG"
      },
      "execution_count": null,
      "outputs": []
    },
    {
      "cell_type": "code",
      "source": [
        "# Удаляем пунктуацию и цифры из колонки 'review'\n",
        "df['review'] = df['review'].apply(remove_punctuation)"
      ],
      "metadata": {
        "id": "u5icDIcxp11M"
      },
      "execution_count": null,
      "outputs": []
    },
    {
      "cell_type": "code",
      "source": [
        "# Проверяем удалилась ли пунктуация\n",
        "df"
      ],
      "metadata": {
        "colab": {
          "base_uri": "https://localhost:8080/",
          "height": 424
        },
        "id": "TpWxfGG2p3nh",
        "outputId": "1de8159d-a375-4521-e6f9-6c1cbc8318f5"
      },
      "execution_count": null,
      "outputs": [
        {
          "output_type": "execute_result",
          "data": {
            "text/plain": [
              "                                                  review  rating  published  \\\n",
              "0      «Головоломка» — продукт универсальный и чтобы ...      90  2015-6-22   \n",
              "1      А если подвести итоги то Пиксар создал не побо...     100  2015-6-18   \n",
              "2      И все же плюсы «Головоломки» перевешивают ее м...     100  2015-6-19   \n",
              "3      На выходе из зала есть ощущение что Pixar сдел...     100  2015-6-18   \n",
              "4      Да перед нами настоящий старой школы пиксаровс...     100  2015-6-16   \n",
              "...                                                  ...     ...        ...   \n",
              "27315  Самая большая беда «Сигнала»  это занудство чи...      50  2014-8-31   \n",
              "27316  Лоренс Фишбёрн в скафандре гуляющий в режиме с...      60  2014-8-31   \n",
              "27317  И оно и страшно и увлекательно одновременно и ...      80   2014-9-5   \n",
              "27318  Уилльям Юбанк молодой режиссер начинавший что ...      60   2014-9-5   \n",
              "27319  Итак «Сигнал» есть очередная незапоминающаяся ...      50   2014-9-7   \n",
              "\n",
              "                                         full review url  \n",
              "0                  http://www.kino-mir.ru/posts/view/147  \n",
              "1        https://www.uralweb.ru/poster/reviews/6694.html  \n",
              "2      http://www.tramvision.ru/recensia/2015/golovol...  \n",
              "3                http://afisha.ngs.ru/news/more/2181412/  \n",
              "4      http://www.kinokadr.ru/articles/2015/06/17/ins...  \n",
              "...                                                  ...  \n",
              "27315         http://www.kino-teatr.ru/kino/art/pr/3573/  \n",
              "27316               http://www.intermedia.ru/news/263759  \n",
              "27317  http://www.the-village.ru/village/weekend/film...  \n",
              "27318   http://www.afisha.ru/movie/221968/review/558346/  \n",
              "27319  http://www.kino-govno.com/movies/signal2014/re...  \n",
              "\n",
              "[27320 rows x 4 columns]"
            ],
            "text/html": [
              "\n",
              "  <div id=\"df-6440f1fc-cb5a-4f93-81c8-0434b46b257d\">\n",
              "    <div class=\"colab-df-container\">\n",
              "      <div>\n",
              "<style scoped>\n",
              "    .dataframe tbody tr th:only-of-type {\n",
              "        vertical-align: middle;\n",
              "    }\n",
              "\n",
              "    .dataframe tbody tr th {\n",
              "        vertical-align: top;\n",
              "    }\n",
              "\n",
              "    .dataframe thead th {\n",
              "        text-align: right;\n",
              "    }\n",
              "</style>\n",
              "<table border=\"1\" class=\"dataframe\">\n",
              "  <thead>\n",
              "    <tr style=\"text-align: right;\">\n",
              "      <th></th>\n",
              "      <th>review</th>\n",
              "      <th>rating</th>\n",
              "      <th>published</th>\n",
              "      <th>full review url</th>\n",
              "    </tr>\n",
              "  </thead>\n",
              "  <tbody>\n",
              "    <tr>\n",
              "      <th>0</th>\n",
              "      <td>«Головоломка» — продукт универсальный и чтобы ...</td>\n",
              "      <td>90</td>\n",
              "      <td>2015-6-22</td>\n",
              "      <td>http://www.kino-mir.ru/posts/view/147</td>\n",
              "    </tr>\n",
              "    <tr>\n",
              "      <th>1</th>\n",
              "      <td>А если подвести итоги то Пиксар создал не побо...</td>\n",
              "      <td>100</td>\n",
              "      <td>2015-6-18</td>\n",
              "      <td>https://www.uralweb.ru/poster/reviews/6694.html</td>\n",
              "    </tr>\n",
              "    <tr>\n",
              "      <th>2</th>\n",
              "      <td>И все же плюсы «Головоломки» перевешивают ее м...</td>\n",
              "      <td>100</td>\n",
              "      <td>2015-6-19</td>\n",
              "      <td>http://www.tramvision.ru/recensia/2015/golovol...</td>\n",
              "    </tr>\n",
              "    <tr>\n",
              "      <th>3</th>\n",
              "      <td>На выходе из зала есть ощущение что Pixar сдел...</td>\n",
              "      <td>100</td>\n",
              "      <td>2015-6-18</td>\n",
              "      <td>http://afisha.ngs.ru/news/more/2181412/</td>\n",
              "    </tr>\n",
              "    <tr>\n",
              "      <th>4</th>\n",
              "      <td>Да перед нами настоящий старой школы пиксаровс...</td>\n",
              "      <td>100</td>\n",
              "      <td>2015-6-16</td>\n",
              "      <td>http://www.kinokadr.ru/articles/2015/06/17/ins...</td>\n",
              "    </tr>\n",
              "    <tr>\n",
              "      <th>...</th>\n",
              "      <td>...</td>\n",
              "      <td>...</td>\n",
              "      <td>...</td>\n",
              "      <td>...</td>\n",
              "    </tr>\n",
              "    <tr>\n",
              "      <th>27315</th>\n",
              "      <td>Самая большая беда «Сигнала»  это занудство чи...</td>\n",
              "      <td>50</td>\n",
              "      <td>2014-8-31</td>\n",
              "      <td>http://www.kino-teatr.ru/kino/art/pr/3573/</td>\n",
              "    </tr>\n",
              "    <tr>\n",
              "      <th>27316</th>\n",
              "      <td>Лоренс Фишбёрн в скафандре гуляющий в режиме с...</td>\n",
              "      <td>60</td>\n",
              "      <td>2014-8-31</td>\n",
              "      <td>http://www.intermedia.ru/news/263759</td>\n",
              "    </tr>\n",
              "    <tr>\n",
              "      <th>27317</th>\n",
              "      <td>И оно и страшно и увлекательно одновременно и ...</td>\n",
              "      <td>80</td>\n",
              "      <td>2014-9-5</td>\n",
              "      <td>http://www.the-village.ru/village/weekend/film...</td>\n",
              "    </tr>\n",
              "    <tr>\n",
              "      <th>27318</th>\n",
              "      <td>Уилльям Юбанк молодой режиссер начинавший что ...</td>\n",
              "      <td>60</td>\n",
              "      <td>2014-9-5</td>\n",
              "      <td>http://www.afisha.ru/movie/221968/review/558346/</td>\n",
              "    </tr>\n",
              "    <tr>\n",
              "      <th>27319</th>\n",
              "      <td>Итак «Сигнал» есть очередная незапоминающаяся ...</td>\n",
              "      <td>50</td>\n",
              "      <td>2014-9-7</td>\n",
              "      <td>http://www.kino-govno.com/movies/signal2014/re...</td>\n",
              "    </tr>\n",
              "  </tbody>\n",
              "</table>\n",
              "<p>27320 rows × 4 columns</p>\n",
              "</div>\n",
              "      <button class=\"colab-df-convert\" onclick=\"convertToInteractive('df-6440f1fc-cb5a-4f93-81c8-0434b46b257d')\"\n",
              "              title=\"Convert this dataframe to an interactive table.\"\n",
              "              style=\"display:none;\">\n",
              "        \n",
              "  <svg xmlns=\"http://www.w3.org/2000/svg\" height=\"24px\"viewBox=\"0 0 24 24\"\n",
              "       width=\"24px\">\n",
              "    <path d=\"M0 0h24v24H0V0z\" fill=\"none\"/>\n",
              "    <path d=\"M18.56 5.44l.94 2.06.94-2.06 2.06-.94-2.06-.94-.94-2.06-.94 2.06-2.06.94zm-11 1L8.5 8.5l.94-2.06 2.06-.94-2.06-.94L8.5 2.5l-.94 2.06-2.06.94zm10 10l.94 2.06.94-2.06 2.06-.94-2.06-.94-.94-2.06-.94 2.06-2.06.94z\"/><path d=\"M17.41 7.96l-1.37-1.37c-.4-.4-.92-.59-1.43-.59-.52 0-1.04.2-1.43.59L10.3 9.45l-7.72 7.72c-.78.78-.78 2.05 0 2.83L4 21.41c.39.39.9.59 1.41.59.51 0 1.02-.2 1.41-.59l7.78-7.78 2.81-2.81c.8-.78.8-2.07 0-2.86zM5.41 20L4 18.59l7.72-7.72 1.47 1.35L5.41 20z\"/>\n",
              "  </svg>\n",
              "      </button>\n",
              "      \n",
              "  <style>\n",
              "    .colab-df-container {\n",
              "      display:flex;\n",
              "      flex-wrap:wrap;\n",
              "      gap: 12px;\n",
              "    }\n",
              "\n",
              "    .colab-df-convert {\n",
              "      background-color: #E8F0FE;\n",
              "      border: none;\n",
              "      border-radius: 50%;\n",
              "      cursor: pointer;\n",
              "      display: none;\n",
              "      fill: #1967D2;\n",
              "      height: 32px;\n",
              "      padding: 0 0 0 0;\n",
              "      width: 32px;\n",
              "    }\n",
              "\n",
              "    .colab-df-convert:hover {\n",
              "      background-color: #E2EBFA;\n",
              "      box-shadow: 0px 1px 2px rgba(60, 64, 67, 0.3), 0px 1px 3px 1px rgba(60, 64, 67, 0.15);\n",
              "      fill: #174EA6;\n",
              "    }\n",
              "\n",
              "    [theme=dark] .colab-df-convert {\n",
              "      background-color: #3B4455;\n",
              "      fill: #D2E3FC;\n",
              "    }\n",
              "\n",
              "    [theme=dark] .colab-df-convert:hover {\n",
              "      background-color: #434B5C;\n",
              "      box-shadow: 0px 1px 3px 1px rgba(0, 0, 0, 0.15);\n",
              "      filter: drop-shadow(0px 1px 2px rgba(0, 0, 0, 0.3));\n",
              "      fill: #FFFFFF;\n",
              "    }\n",
              "  </style>\n",
              "\n",
              "      <script>\n",
              "        const buttonEl =\n",
              "          document.querySelector('#df-6440f1fc-cb5a-4f93-81c8-0434b46b257d button.colab-df-convert');\n",
              "        buttonEl.style.display =\n",
              "          google.colab.kernel.accessAllowed ? 'block' : 'none';\n",
              "\n",
              "        async function convertToInteractive(key) {\n",
              "          const element = document.querySelector('#df-6440f1fc-cb5a-4f93-81c8-0434b46b257d');\n",
              "          const dataTable =\n",
              "            await google.colab.kernel.invokeFunction('convertToInteractive',\n",
              "                                                     [key], {});\n",
              "          if (!dataTable) return;\n",
              "\n",
              "          const docLinkHtml = 'Like what you see? Visit the ' +\n",
              "            '<a target=\"_blank\" href=https://colab.research.google.com/notebooks/data_table.ipynb>data table notebook</a>'\n",
              "            + ' to learn more about interactive tables.';\n",
              "          element.innerHTML = '';\n",
              "          dataTable['output_type'] = 'display_data';\n",
              "          await google.colab.output.renderOutput(dataTable, element);\n",
              "          const docLink = document.createElement('div');\n",
              "          docLink.innerHTML = docLinkHtml;\n",
              "          element.appendChild(docLink);\n",
              "        }\n",
              "      </script>\n",
              "    </div>\n",
              "  </div>\n",
              "  "
            ]
          },
          "metadata": {},
          "execution_count": 8
        }
      ]
    },
    {
      "cell_type": "markdown",
      "source": [
        "Создаем новую колонку, по которой будем позже тренеровать нашу модель"
      ],
      "metadata": {
        "id": "TuLutVChc5b_"
      }
    },
    {
      "cell_type": "code",
      "source": [
        "# Создаем функцию для определения настроения отзыва на основе рейтинга\n",
        "def get_sentiment(rating):\n",
        "    if rating > 60:\n",
        "        return 'positive'\n",
        "    elif rating < 40:\n",
        "        return 'negative'\n",
        "    else:\n",
        "        return 'neutral'"
      ],
      "metadata": {
        "id": "edJmJHdIfUKl"
      },
      "execution_count": null,
      "outputs": []
    },
    {
      "cell_type": "code",
      "source": [
        "# Создаем новую колонку \"sentiment\" на основе рейтинга\n",
        "df['sentiment'] = df['rating'].apply(get_sentiment)"
      ],
      "metadata": {
        "id": "gp_tIbQBfV9i"
      },
      "execution_count": null,
      "outputs": []
    },
    {
      "cell_type": "code",
      "source": [
        "# Смотрим какое количество отзывов для каждого типа настроения получилось\n",
        "print(df['sentiment'].value_counts())\n"
      ],
      "metadata": {
        "colab": {
          "base_uri": "https://localhost:8080/"
        },
        "id": "HWuSch-VfXgg",
        "outputId": "c1ac9c0b-7a18-4f7d-c8ce-521aaca1db2d"
      },
      "execution_count": null,
      "outputs": [
        {
          "output_type": "stream",
          "name": "stdout",
          "text": [
            "positive    17838\n",
            "neutral      8145\n",
            "negative     1337\n",
            "Name: sentiment, dtype: int64\n"
          ]
        }
      ]
    },
    {
      "cell_type": "code",
      "source": [
        "# Смотрим датафрейм с новой колонкой / проверяем\n",
        "df.head(10)"
      ],
      "metadata": {
        "colab": {
          "base_uri": "https://localhost:8080/",
          "height": 363
        },
        "id": "95f6Szs9cXrx",
        "outputId": "63ccac69-1aa4-4416-b0d9-111a761f9a9c"
      },
      "execution_count": null,
      "outputs": [
        {
          "output_type": "execute_result",
          "data": {
            "text/plain": [
              "                                              review  rating  published  \\\n",
              "0  «Головоломка» — продукт универсальный и чтобы ...      90  2015-6-22   \n",
              "1  А если подвести итоги то Пиксар создал не побо...     100  2015-6-18   \n",
              "2  И все же плюсы «Головоломки» перевешивают ее м...     100  2015-6-19   \n",
              "3  На выходе из зала есть ощущение что Pixar сдел...     100  2015-6-18   \n",
              "4  Да перед нами настоящий старой школы пиксаровс...     100  2015-6-16   \n",
              "5  При этом Доктеру удалось удачно сыграть на нуж...      80  2015-6-18   \n",
              "6  Гдето в тех же плоскостях лежит риторический в...      90   2015-8-4   \n",
              "7  Режиссер фильма – Пит Доктер «Корпорация монст...     100  2015-6-16   \n",
              "8  Если Pixar и нужно было вставать на ноги с эти...      97  2015-6-18   \n",
              "9  Даже обидно было бы узнать от какихнибудь нейр...     100  2015-6-16   \n",
              "\n",
              "                                     full review url sentiment  \n",
              "0              http://www.kino-mir.ru/posts/view/147  positive  \n",
              "1    https://www.uralweb.ru/poster/reviews/6694.html  positive  \n",
              "2  http://www.tramvision.ru/recensia/2015/golovol...  positive  \n",
              "3            http://afisha.ngs.ru/news/more/2181412/  positive  \n",
              "4  http://www.kinokadr.ru/articles/2015/06/17/ins...  positive  \n",
              "5               http://postcriticism.ru/golovolomka/  positive  \n",
              "6             http://postcriticism.ru/golovolomka-3/  positive  \n",
              "7         http://www.kino-teatr.ru/kino/art/pr/4016/  positive  \n",
              "8   http://www.lumiere-mag.ru/golovolomka-recenziya/  positive  \n",
              "9               http://www.intermedia.ru/news/277895  positive  "
            ],
            "text/html": [
              "\n",
              "  <div id=\"df-6ba6cde3-675c-401f-8154-5511eda853d6\">\n",
              "    <div class=\"colab-df-container\">\n",
              "      <div>\n",
              "<style scoped>\n",
              "    .dataframe tbody tr th:only-of-type {\n",
              "        vertical-align: middle;\n",
              "    }\n",
              "\n",
              "    .dataframe tbody tr th {\n",
              "        vertical-align: top;\n",
              "    }\n",
              "\n",
              "    .dataframe thead th {\n",
              "        text-align: right;\n",
              "    }\n",
              "</style>\n",
              "<table border=\"1\" class=\"dataframe\">\n",
              "  <thead>\n",
              "    <tr style=\"text-align: right;\">\n",
              "      <th></th>\n",
              "      <th>review</th>\n",
              "      <th>rating</th>\n",
              "      <th>published</th>\n",
              "      <th>full review url</th>\n",
              "      <th>sentiment</th>\n",
              "    </tr>\n",
              "  </thead>\n",
              "  <tbody>\n",
              "    <tr>\n",
              "      <th>0</th>\n",
              "      <td>«Головоломка» — продукт универсальный и чтобы ...</td>\n",
              "      <td>90</td>\n",
              "      <td>2015-6-22</td>\n",
              "      <td>http://www.kino-mir.ru/posts/view/147</td>\n",
              "      <td>positive</td>\n",
              "    </tr>\n",
              "    <tr>\n",
              "      <th>1</th>\n",
              "      <td>А если подвести итоги то Пиксар создал не побо...</td>\n",
              "      <td>100</td>\n",
              "      <td>2015-6-18</td>\n",
              "      <td>https://www.uralweb.ru/poster/reviews/6694.html</td>\n",
              "      <td>positive</td>\n",
              "    </tr>\n",
              "    <tr>\n",
              "      <th>2</th>\n",
              "      <td>И все же плюсы «Головоломки» перевешивают ее м...</td>\n",
              "      <td>100</td>\n",
              "      <td>2015-6-19</td>\n",
              "      <td>http://www.tramvision.ru/recensia/2015/golovol...</td>\n",
              "      <td>positive</td>\n",
              "    </tr>\n",
              "    <tr>\n",
              "      <th>3</th>\n",
              "      <td>На выходе из зала есть ощущение что Pixar сдел...</td>\n",
              "      <td>100</td>\n",
              "      <td>2015-6-18</td>\n",
              "      <td>http://afisha.ngs.ru/news/more/2181412/</td>\n",
              "      <td>positive</td>\n",
              "    </tr>\n",
              "    <tr>\n",
              "      <th>4</th>\n",
              "      <td>Да перед нами настоящий старой школы пиксаровс...</td>\n",
              "      <td>100</td>\n",
              "      <td>2015-6-16</td>\n",
              "      <td>http://www.kinokadr.ru/articles/2015/06/17/ins...</td>\n",
              "      <td>positive</td>\n",
              "    </tr>\n",
              "    <tr>\n",
              "      <th>5</th>\n",
              "      <td>При этом Доктеру удалось удачно сыграть на нуж...</td>\n",
              "      <td>80</td>\n",
              "      <td>2015-6-18</td>\n",
              "      <td>http://postcriticism.ru/golovolomka/</td>\n",
              "      <td>positive</td>\n",
              "    </tr>\n",
              "    <tr>\n",
              "      <th>6</th>\n",
              "      <td>Гдето в тех же плоскостях лежит риторический в...</td>\n",
              "      <td>90</td>\n",
              "      <td>2015-8-4</td>\n",
              "      <td>http://postcriticism.ru/golovolomka-3/</td>\n",
              "      <td>positive</td>\n",
              "    </tr>\n",
              "    <tr>\n",
              "      <th>7</th>\n",
              "      <td>Режиссер фильма – Пит Доктер «Корпорация монст...</td>\n",
              "      <td>100</td>\n",
              "      <td>2015-6-16</td>\n",
              "      <td>http://www.kino-teatr.ru/kino/art/pr/4016/</td>\n",
              "      <td>positive</td>\n",
              "    </tr>\n",
              "    <tr>\n",
              "      <th>8</th>\n",
              "      <td>Если Pixar и нужно было вставать на ноги с эти...</td>\n",
              "      <td>97</td>\n",
              "      <td>2015-6-18</td>\n",
              "      <td>http://www.lumiere-mag.ru/golovolomka-recenziya/</td>\n",
              "      <td>positive</td>\n",
              "    </tr>\n",
              "    <tr>\n",
              "      <th>9</th>\n",
              "      <td>Даже обидно было бы узнать от какихнибудь нейр...</td>\n",
              "      <td>100</td>\n",
              "      <td>2015-6-16</td>\n",
              "      <td>http://www.intermedia.ru/news/277895</td>\n",
              "      <td>positive</td>\n",
              "    </tr>\n",
              "  </tbody>\n",
              "</table>\n",
              "</div>\n",
              "      <button class=\"colab-df-convert\" onclick=\"convertToInteractive('df-6ba6cde3-675c-401f-8154-5511eda853d6')\"\n",
              "              title=\"Convert this dataframe to an interactive table.\"\n",
              "              style=\"display:none;\">\n",
              "        \n",
              "  <svg xmlns=\"http://www.w3.org/2000/svg\" height=\"24px\"viewBox=\"0 0 24 24\"\n",
              "       width=\"24px\">\n",
              "    <path d=\"M0 0h24v24H0V0z\" fill=\"none\"/>\n",
              "    <path d=\"M18.56 5.44l.94 2.06.94-2.06 2.06-.94-2.06-.94-.94-2.06-.94 2.06-2.06.94zm-11 1L8.5 8.5l.94-2.06 2.06-.94-2.06-.94L8.5 2.5l-.94 2.06-2.06.94zm10 10l.94 2.06.94-2.06 2.06-.94-2.06-.94-.94-2.06-.94 2.06-2.06.94z\"/><path d=\"M17.41 7.96l-1.37-1.37c-.4-.4-.92-.59-1.43-.59-.52 0-1.04.2-1.43.59L10.3 9.45l-7.72 7.72c-.78.78-.78 2.05 0 2.83L4 21.41c.39.39.9.59 1.41.59.51 0 1.02-.2 1.41-.59l7.78-7.78 2.81-2.81c.8-.78.8-2.07 0-2.86zM5.41 20L4 18.59l7.72-7.72 1.47 1.35L5.41 20z\"/>\n",
              "  </svg>\n",
              "      </button>\n",
              "      \n",
              "  <style>\n",
              "    .colab-df-container {\n",
              "      display:flex;\n",
              "      flex-wrap:wrap;\n",
              "      gap: 12px;\n",
              "    }\n",
              "\n",
              "    .colab-df-convert {\n",
              "      background-color: #E8F0FE;\n",
              "      border: none;\n",
              "      border-radius: 50%;\n",
              "      cursor: pointer;\n",
              "      display: none;\n",
              "      fill: #1967D2;\n",
              "      height: 32px;\n",
              "      padding: 0 0 0 0;\n",
              "      width: 32px;\n",
              "    }\n",
              "\n",
              "    .colab-df-convert:hover {\n",
              "      background-color: #E2EBFA;\n",
              "      box-shadow: 0px 1px 2px rgba(60, 64, 67, 0.3), 0px 1px 3px 1px rgba(60, 64, 67, 0.15);\n",
              "      fill: #174EA6;\n",
              "    }\n",
              "\n",
              "    [theme=dark] .colab-df-convert {\n",
              "      background-color: #3B4455;\n",
              "      fill: #D2E3FC;\n",
              "    }\n",
              "\n",
              "    [theme=dark] .colab-df-convert:hover {\n",
              "      background-color: #434B5C;\n",
              "      box-shadow: 0px 1px 3px 1px rgba(0, 0, 0, 0.15);\n",
              "      filter: drop-shadow(0px 1px 2px rgba(0, 0, 0, 0.3));\n",
              "      fill: #FFFFFF;\n",
              "    }\n",
              "  </style>\n",
              "\n",
              "      <script>\n",
              "        const buttonEl =\n",
              "          document.querySelector('#df-6ba6cde3-675c-401f-8154-5511eda853d6 button.colab-df-convert');\n",
              "        buttonEl.style.display =\n",
              "          google.colab.kernel.accessAllowed ? 'block' : 'none';\n",
              "\n",
              "        async function convertToInteractive(key) {\n",
              "          const element = document.querySelector('#df-6ba6cde3-675c-401f-8154-5511eda853d6');\n",
              "          const dataTable =\n",
              "            await google.colab.kernel.invokeFunction('convertToInteractive',\n",
              "                                                     [key], {});\n",
              "          if (!dataTable) return;\n",
              "\n",
              "          const docLinkHtml = 'Like what you see? Visit the ' +\n",
              "            '<a target=\"_blank\" href=https://colab.research.google.com/notebooks/data_table.ipynb>data table notebook</a>'\n",
              "            + ' to learn more about interactive tables.';\n",
              "          element.innerHTML = '';\n",
              "          dataTable['output_type'] = 'display_data';\n",
              "          await google.colab.output.renderOutput(dataTable, element);\n",
              "          const docLink = document.createElement('div');\n",
              "          docLink.innerHTML = docLinkHtml;\n",
              "          element.appendChild(docLink);\n",
              "        }\n",
              "      </script>\n",
              "    </div>\n",
              "  </div>\n",
              "  "
            ]
          },
          "metadata": {},
          "execution_count": 12
        }
      ]
    },
    {
      "cell_type": "markdown",
      "source": [
        "Строим график распределения настроений"
      ],
      "metadata": {
        "id": "GJ9YpRTTcjo_"
      }
    },
    {
      "cell_type": "code",
      "source": [
        "# создаем объекты для графика\n",
        "fig, ax = plt.subplots(figsize=(8, 6))\n",
        "sns.countplot(x='sentiment', data=df, ax=ax)\n",
        "\n",
        "# задаем названия осей и графика\n",
        "ax.set_xlabel('Sentiment')\n",
        "ax.set_ylabel('Count')\n",
        "ax.set_title('Distribution of Sentiments')\n",
        "\n",
        "plt.show()"
      ],
      "metadata": {
        "colab": {
          "base_uri": "https://localhost:8080/",
          "height": 564
        },
        "id": "nKbLZ1b5ECzl",
        "outputId": "7c8a29a4-f5da-4c27-ab22-6f4f43aee4cc"
      },
      "execution_count": null,
      "outputs": [
        {
          "output_type": "display_data",
          "data": {
            "text/plain": [
              "<Figure size 800x600 with 1 Axes>"
            ],
            "image/png": "[encoded data removed]"
          },
          "metadata": {}
        }
      ]
    },
    {
      "cell_type": "code",
      "source": [
        "# Импортируем библиотеку и скачиваем стоп слова для русского языка\n",
        "import nltk\n",
        "nltk.download('stopwords')"
      ],
      "metadata": {
        "colab": {
          "base_uri": "https://localhost:8080/"
        },
        "id": "41MQLB5pfZep",
        "outputId": "9faf160a-5196-40d1-cacb-ca1e06fe2337"
      },
      "execution_count": null,
      "outputs": [
        {
          "output_type": "stream",
          "name": "stderr",
          "text": [
            "[nltk_data] Downloading package stopwords to /root/nltk_data...\n",
            "[nltk_data]   Package stopwords is already up-to-date!\n"
          ]
        },
        {
          "output_type": "execute_result",
          "data": {
            "text/plain": [
              "True"
            ]
          },
          "metadata": {},
          "execution_count": 15
        }
      ]
    },
    {
      "cell_type": "code",
      "source": [
        "# Создаем список стоп-слов на русском языке\n",
        "from nltk.corpus import stopwords\n",
        "stop_words = stopwords.words('russian')"
      ],
      "metadata": {
        "id": "7I8PHlIOffcn"
      },
      "execution_count": null,
      "outputs": []
    },
    {
      "cell_type": "markdown",
      "source": [
        "Смотрим частоту всех слов: строим гистограмму распределения частоты слов"
      ],
      "metadata": {
        "id": "emr_5hfUdTnT"
      }
    },
    {
      "cell_type": "code",
      "source": [
        "# создаем список всех слов в наших текстах\n",
        "all_words = []\n",
        "for text in df['review']:\n",
        "    all_words.extend(text.split())\n",
        "\n",
        "# создаем объект FreqDist и вычисляем частоту каждого слова\n",
        "fdist = FreqDist(all_words)\n",
        "\n",
        "# выводим 30 наиболее часто встречающихся слов\n",
        "fdist.plot(30, cumulative=False)\n",
        "plt.show()"
      ],
      "metadata": {
        "colab": {
          "base_uri": "https://localhost:8080/",
          "height": 486
        },
        "id": "oiKCHp5jG_a-",
        "outputId": "5a6bb022-7f9e-45fd-fff9-c48857fbd06f"
      },
      "execution_count": null,
      "outputs": [
        {
          "output_type": "display_data",
          "data": {
            "text/plain": [
              "<Figure size 640x480 with 1 Axes>"
            ],
            "image/png": "[encoded data removed]"
          },
          "metadata": {}
        }
      ]
    },
    {
      "cell_type": "code",
      "source": [
        "# Удаляем стоп слова, используя анонимную функцию\n",
        "df['review'] = df['review'].apply(lambda x: ' '.join([word for word in x.split() if word not in stop_words]))"
      ],
      "metadata": {
        "id": "IlivJC6bF6qK"
      },
      "execution_count": null,
      "outputs": []
    },
    {
      "cell_type": "markdown",
      "source": [
        "Проверяем удалился ли шум: строим повторно гистограмму распределения частоты слов"
      ],
      "metadata": {
        "id": "_z1jlo2vdar5"
      }
    },
    {
      "cell_type": "code",
      "source": [
        "# создаем список всех слов в наших текстах\n",
        "all_words = []\n",
        "for text in df['review']:\n",
        "    all_words.extend(text.split())\n",
        "\n",
        "# создаем объект FreqDist и вычисляем частоту каждого слова\n",
        "fdist = FreqDist(all_words)\n",
        "\n",
        "# выводим 30 наиболее часто встречающихся слов\n",
        "fdist.plot(30, cumulative=False)\n",
        "plt.show()"
      ],
      "metadata": {
        "colab": {
          "base_uri": "https://localhost:8080/",
          "height": 501
        },
        "id": "pwimFK_EGfUO",
        "outputId": "12f45bfa-40d5-4903-d249-57d70fa5ea4b"
      },
      "execution_count": null,
      "outputs": [
        {
          "output_type": "display_data",
          "data": {
            "text/plain": [
              "<Figure size 640x480 with 1 Axes>"
            ],
            "image/png": "[encoded data removed]"
          },
          "metadata": {}
        }
      ]
    },
    {
      "cell_type": "markdown",
      "source": [
        "Преобразовываем текст в векторы признаков, для последующего обучения модели"
      ],
      "metadata": {
        "id": "jB8uTtMbdnpp"
      }
    },
    {
      "cell_type": "code",
      "source": [
        "# Создаем объект TfidfVectorizer для преобразования текста в векторы признаков\n",
        "vectorizer = TfidfVectorizer(stop_words=stop_words)"
      ],
      "metadata": {
        "id": "F8Aewm6dfhse"
      },
      "execution_count": null,
      "outputs": []
    },
    {
      "cell_type": "code",
      "source": [
        "# Преобразуем текст в векторы признаков\n",
        "X = vectorizer.fit_transform(df['review'])"
      ],
      "metadata": {
        "id": "EiF5OvXSh2aW"
      },
      "execution_count": null,
      "outputs": []
    },
    {
      "cell_type": "code",
      "source": [
        "# Разделяем данные на обучающую и тестовую выборки\n",
        "X_train, X_test, y_train, y_test = train_test_split(X, df['sentiment'], test_size=0.20, random_state=10)"
      ],
      "metadata": {
        "id": "uOXXBh0RihM4"
      },
      "execution_count": null,
      "outputs": []
    },
    {
      "cell_type": "code",
      "source": [
        "# Создаем модель машинного обучения - LinearSVC\n",
        "model = LinearSVC()"
      ],
      "metadata": {
        "id": "EPMYnGS2ikoH"
      },
      "execution_count": null,
      "outputs": []
    },
    {
      "cell_type": "code",
      "source": [
        "# Обучаем модель на обучающей выборке\n",
        "model.fit(X_train, y_train)"
      ],
      "metadata": {
        "colab": {
          "base_uri": "https://localhost:8080/",
          "height": 75
        },
        "id": "sJ_ZTE-2imxi",
        "outputId": "bf55ce37-970f-490a-b6d3-77f41d839c8c"
      },
      "execution_count": null,
      "outputs": [
        {
          "output_type": "execute_result",
          "data": {
            "text/plain": [
              "LinearSVC()"
            ],
            "text/html": [
              "<style>#sk-container-id-1 {color: black;background-color: white;}#sk-container-id-1 pre{padding: 0;}#sk-container-id-1 div.sk-toggleable {background-color: white;}#sk-container-id-1 label.sk-toggleable__label {cursor: pointer;display: block;width: 100%;margin-bottom: 0;padding: 0.3em;box-sizing: border-box;text-align: center;}#sk-container-id-1 label.sk-toggleable__label-arrow:before {content: \"▸\";float: left;margin-right: 0.25em;color: #696969;}#sk-container-id-1 label.sk-toggleable__label-arrow:hover:before {color: black;}#sk-container-id-1 div.sk-estimator:hover label.sk-toggleable__label-arrow:before {color: black;}#sk-container-id-1 div.sk-toggleable__content {max-height: 0;max-width: 0;overflow: hidden;text-align: left;background-color: #f0f8ff;}#sk-container-id-1 div.sk-toggleable__content pre {margin: 0.2em;color: black;border-radius: 0.25em;background-color: #f0f8ff;}#sk-container-id-1 input.sk-toggleable__control:checked~div.sk-toggleable__content {max-height: 200px;max-width: 100%;overflow: auto;}#sk-container-id-1 input.sk-toggleable__control:checked~label.sk-toggleable__label-arrow:before {content: \"▾\";}#sk-container-id-1 div.sk-estimator input.sk-toggleable__control:checked~label.sk-toggleable__label {background-color: #d4ebff;}#sk-container-id-1 div.sk-label input.sk-toggleable__control:checked~label.sk-toggleable__label {background-color: #d4ebff;}#sk-container-id-1 input.sk-hidden--visually {border: 0;clip: rect(1px 1px 1px 1px);clip: rect(1px, 1px, 1px, 1px);height: 1px;margin: -1px;overflow: hidden;padding: 0;position: absolute;width: 1px;}#sk-container-id-1 div.sk-estimator {font-family: monospace;background-color: #f0f8ff;border: 1px dotted black;border-radius: 0.25em;box-sizing: border-box;margin-bottom: 0.5em;}#sk-container-id-1 div.sk-estimator:hover {background-color: #d4ebff;}#sk-container-id-1 div.sk-parallel-item::after {content: \"\";width: 100%;border-bottom: 1px solid gray;flex-grow: 1;}#sk-container-id-1 div.sk-label:hover label.sk-toggleable__label {background-color: #d4ebff;}#sk-container-id-1 div.sk-serial::before {content: \"\";position: absolute;border-left: 1px solid gray;box-sizing: border-box;top: 0;bottom: 0;left: 50%;z-index: 0;}#sk-container-id-1 div.sk-serial {display: flex;flex-direction: column;align-items: center;background-color: white;padding-right: 0.2em;padding-left: 0.2em;position: relative;}#sk-container-id-1 div.sk-item {position: relative;z-index: 1;}#sk-container-id-1 div.sk-parallel {display: flex;align-items: stretch;justify-content: center;background-color: white;position: relative;}#sk-container-id-1 div.sk-item::before, #sk-container-id-1 div.sk-parallel-item::before {content: \"\";position: absolute;border-left: 1px solid gray;box-sizing: border-box;top: 0;bottom: 0;left: 50%;z-index: -1;}#sk-container-id-1 div.sk-parallel-item {display: flex;flex-direction: column;z-index: 1;position: relative;background-color: white;}#sk-container-id-1 div.sk-parallel-item:first-child::after {align-self: flex-end;width: 50%;}#sk-container-id-1 div.sk-parallel-item:last-child::after {align-self: flex-start;width: 50%;}#sk-container-id-1 div.sk-parallel-item:only-child::after {width: 0;}#sk-container-id-1 div.sk-dashed-wrapped {border: 1px dashed gray;margin: 0 0.4em 0.5em 0.4em;box-sizing: border-box;padding-bottom: 0.4em;background-color: white;}#sk-container-id-1 div.sk-label label {font-family: monospace;font-weight: bold;display: inline-block;line-height: 1.2em;}#sk-container-id-1 div.sk-label-container {text-align: center;}#sk-container-id-1 div.sk-container {/* jupyter's `normalize.less` sets `[hidden] { display: none; }` but bootstrap.min.css set `[hidden] { display: none !important; }` so we also need the `!important` here to be able to override the default hidden behavior on the sphinx rendered scikit-learn.org. See: https://github.com/scikit-learn/scikit-learn/issues/21755 */display: inline-block !important;position: relative;}#sk-container-id-1 div.sk-text-repr-fallback {display: none;}</style><div id=\"sk-container-id-1\" class=\"sk-top-container\"><div class=\"sk-text-repr-fallback\"><pre>LinearSVC()</pre><b>In a Jupyter environment, please rerun this cell to show the HTML representation or trust the notebook. <br />On GitHub, the HTML representation is unable to render, please try loading this page with nbviewer.org.</b></div><div class=\"sk-container\" hidden><div class=\"sk-item\"><div class=\"sk-estimator sk-toggleable\"><input class=\"sk-toggleable__control sk-hidden--visually\" id=\"sk-estimator-id-1\" type=\"checkbox\" checked><label for=\"sk-estimator-id-1\" class=\"sk-toggleable__label sk-toggleable__label-arrow\">LinearSVC</label><div class=\"sk-toggleable__content\"><pre>LinearSVC()</pre></div></div></div></div></div>"
            ]
          },
          "metadata": {},
          "execution_count": 24
        }
      ]
    },
    {
      "cell_type": "code",
      "source": [
        "# Получаем предсказания модели на тестовой выборке\n",
        "y_pred = model.predict(X_test)"
      ],
      "metadata": {
        "id": "ZgQuCyV7ioq7"
      },
      "execution_count": null,
      "outputs": []
    },
    {
      "cell_type": "code",
      "source": [
        "# Оцениваем качество модели\n",
        "acc_svc = accuracy_score(y_test, y_pred)\n",
        "cm_svc = confusion_matrix(y_test, y_pred)"
      ],
      "metadata": {
        "id": "jUZ6yn3QiqXr"
      },
      "execution_count": null,
      "outputs": []
    },
    {
      "cell_type": "code",
      "source": [
        "# Смотрим точность и матрицу ошибок\n",
        "print(f'Accuracy: {acc_svc}')\n",
        "print(f'Confusion matrix: \\n{cm_svc}')"
      ],
      "metadata": {
        "colab": {
          "base_uri": "https://localhost:8080/"
        },
        "id": "xcTB5RLsisMq",
        "outputId": "c83ea91f-6b9b-41cf-8905-e6fd545afbd7"
      },
      "execution_count": null,
      "outputs": [
        {
          "output_type": "stream",
          "name": "stdout",
          "text": [
            "Accuracy: 0.6648975109809663\n",
            "Confusion matrix: \n",
            "[[   2   96  194]\n",
            " [   3  534 1078]\n",
            " [   1  459 3097]]\n"
          ]
        }
      ]
    },
    {
      "cell_type": "markdown",
      "source": [
        "# 2. Выбираем наилучшую модель обучения"
      ],
      "metadata": {
        "id": "bXcYmb9Gz6nj"
      }
    },
    {
      "cell_type": "markdown",
      "source": [
        "В целом, для задачи анализа тональности текстов наиболее распространенными моделями являются:\n",
        "\n",
        "1. Логистическая регрессия\n",
        "2. Наивный Байесовский классификатор\n",
        "3. Решающие деревья\n",
        "4. Случайный лес\n",
        "\n",
        "Поэтому сравним эти модели, и выберем наилучшую, по критерию accuracy"
      ],
      "metadata": {
        "id": "_mILmU5v1B5J"
      }
    },
    {
      "cell_type": "markdown",
      "source": [
        "1. Логистическая регрессия."
      ],
      "metadata": {
        "id": "MZ9jbyHl2EKU"
      }
    },
    {
      "cell_type": "code",
      "source": [
        "# Импортируем модель\n",
        "from sklearn.linear_model import LogisticRegression\n",
        "\n",
        "# Создаем объект модели\n",
        "lr_model = LogisticRegression()\n",
        "\n",
        "# Обучаем модель на обучающей выборке\n",
        "lr_model.fit(X_train, y_train)\n",
        "\n",
        "# Получаем предсказания модели на тестовой выборке\n",
        "y_pred = lr_model.predict(X_test)\n",
        "\n",
        "# Оцениваем качество модели\n",
        "acc_lr = accuracy_score(y_test, y_pred)\n",
        "cm_lr = confusion_matrix(y_test, y_pred)\n",
        "\n",
        "# Печатаем точность и матрицу ошибок\n",
        "print(f'Accuracy: {acc_lr}')\n",
        "print(f'Confusion matrix: \\n{cm_lr}')"
      ],
      "metadata": {
        "colab": {
          "base_uri": "https://localhost:8080/"
        },
        "id": "fiwfQ63i1NDm",
        "outputId": "81dc2942-917a-4e3f-f09b-8f8ad36d564f"
      },
      "execution_count": null,
      "outputs": [
        {
          "output_type": "stream",
          "name": "stdout",
          "text": [
            "Accuracy: 0.6755124450951684\n",
            "Confusion matrix: \n",
            "[[   0   52  240]\n",
            " [   0  296 1319]\n",
            " [   0  162 3395]]\n"
          ]
        },
        {
          "output_type": "stream",
          "name": "stderr",
          "text": [
            "/usr/local/lib/python3.10/dist-packages/sklearn/linear_model/_logistic.py:458: ConvergenceWarning: lbfgs failed to converge (status=1):\n",
            "STOP: TOTAL NO. of ITERATIONS REACHED LIMIT.\n",
            "\n",
            "Increase the number of iterations (max_iter) or scale the data as shown in:\n",
            "    https://scikit-learn.org/stable/modules/preprocessing.html\n",
            "Please also refer to the documentation for alternative solver options:\n",
            "    https://scikit-learn.org/stable/modules/linear_model.html#logistic-regression\n",
            "  n_iter_i = _check_optimize_result(\n"
          ]
        }
      ]
    },
    {
      "cell_type": "markdown",
      "source": [
        "2. Наивный Байесовский классификатор."
      ],
      "metadata": {
        "id": "fEIaIRVq2TgT"
      }
    },
    {
      "cell_type": "code",
      "source": [
        "# Импортируем модель\n",
        "from sklearn.naive_bayes import MultinomialNB\n",
        "\n",
        "# Создаем объект модели\n",
        "nb_model = MultinomialNB()\n",
        "\n",
        "# Обучаем модель на обучающей выборке\n",
        "nb_model.fit(X_train, y_train)\n",
        "\n",
        "# Получаем предсказания модели на тестовой выборке\n",
        "y_pred = nb_model.predict(X_test)\n",
        "\n",
        "# Оцениваем качество модели\n",
        "acc_nb = accuracy_score(y_test, y_pred)\n",
        "cm_nb = confusion_matrix(y_test, y_pred)\n",
        "\n",
        "# Печатаем точность и матрицу ошибок\n",
        "print(f'Accuracy: {acc_nb}')\n",
        "print(f'Confusion matrix: \\n{cm_nb}')"
      ],
      "metadata": {
        "colab": {
          "base_uri": "https://localhost:8080/"
        },
        "id": "IEzagGW02V_F",
        "outputId": "eee31e12-a773-43ce-b581-7898ca1ea55c"
      },
      "execution_count": null,
      "outputs": [
        {
          "output_type": "stream",
          "name": "stdout",
          "text": [
            "Accuracy: 0.6515373352855052\n",
            "Confusion matrix: \n",
            "[[   0    2  290]\n",
            " [   0    4 1611]\n",
            " [   0    1 3556]]\n"
          ]
        }
      ]
    },
    {
      "cell_type": "markdown",
      "source": [
        "3. Решающие деревья."
      ],
      "metadata": {
        "id": "OfSnBn8a2bYz"
      }
    },
    {
      "cell_type": "code",
      "source": [
        "from sklearn.tree import DecisionTreeClassifier\n",
        "\n",
        "# Создаем модель решающих деревьев\n",
        "dt_model = DecisionTreeClassifier()\n",
        "\n",
        "# Обучаем модель на обучающей выборке\n",
        "dt_model.fit(X_train, y_train)\n",
        "\n",
        "# Получаем предсказания модели на тестовой выборке\n",
        "dt_y_pred = dt_model.predict(X_test)\n",
        "\n",
        "# Оцениваем качество модели\n",
        "acc_dt = accuracy_score(y_test, dt_y_pred)\n",
        "cm_dt = confusion_matrix(y_test, dt_y_pred)\n",
        "\n",
        "# Печатаем точность и матрицу ошибок\n",
        "print(f'Accuracy: {acc_dt}')\n",
        "print(f'Confusion matrix: \\n{cm_dt}')"
      ],
      "metadata": {
        "colab": {
          "base_uri": "https://localhost:8080/"
        },
        "id": "4EBp_XnG2Yro",
        "outputId": "0e9890af-478f-4a3f-82da-898e33369db0"
      },
      "execution_count": null,
      "outputs": [
        {
          "output_type": "stream",
          "name": "stdout",
          "text": [
            "Accuracy: 0.5796120058565154\n",
            "Confusion matrix: \n",
            "[[   8   98  186]\n",
            " [  44  486 1085]\n",
            " [  62  822 2673]]\n"
          ]
        }
      ]
    },
    {
      "cell_type": "markdown",
      "source": [
        "4. Случайный лес."
      ],
      "metadata": {
        "id": "mwtgYZ-L270g"
      }
    },
    {
      "cell_type": "code",
      "source": [
        "from sklearn.ensemble import RandomForestClassifier\n",
        "\n",
        "# Создаем модель случайного леса\n",
        "rf_model = RandomForestClassifier()\n",
        "\n",
        "# Обучаем модель на обучающей выборке\n",
        "rf_model.fit(X_train, y_train)\n",
        "\n",
        "# Получаем предсказания модели на тестовой выборке\n",
        "rf_y_pred = rf_model.predict(X_test)\n",
        "\n",
        "# Оцениваем качество модели\n",
        "acc_rf = accuracy_score(y_test, rf_y_pred)\n",
        "cm_rf = confusion_matrix(y_test, rf_y_pred)\n",
        "\n",
        "# Печатаем точность и матрицу ошибок\n",
        "print(f'Accuracy: {acc_rf}')\n",
        "print(f'Confusion matrix: \\n{cm_rf}')"
      ],
      "metadata": {
        "colab": {
          "base_uri": "https://localhost:8080/"
        },
        "id": "0cg-yPTM26ch",
        "outputId": "24b46c82-ffa6-484c-d93a-e707d1cd5275"
      },
      "execution_count": null,
      "outputs": [
        {
          "output_type": "stream",
          "name": "stdout",
          "text": [
            "Accuracy: 0.6632503660322109\n",
            "Confusion matrix: \n",
            "[[   0   21  271]\n",
            " [   0  139 1476]\n",
            " [   1   71 3485]]\n"
          ]
        }
      ]
    },
    {
      "cell_type": "markdown",
      "source": [
        "# 3. Делаем ансамбль из векторной модели и логистической регрессии"
      ],
      "metadata": {
        "id": "eiSgOtrs6yZo"
      }
    },
    {
      "cell_type": "code",
      "source": [
        "from sklearn.ensemble import VotingClassifier\n",
        "\n",
        "# Создаем объекты моделей\n",
        "svc = LinearSVC()\n",
        "lr = LogisticRegression()\n",
        "\n",
        "# Создаем ансамбль моделей\n",
        "ensemble = VotingClassifier(estimators=[('svc', svc), ('lr', lr)], voting='hard')\n",
        "\n",
        "# Обучаем ансамбль моделей\n",
        "ensemble.fit(X_train, y_train)\n",
        "\n",
        "# Получаем предсказания модели на тестовой выборке\n",
        "y_pred = ensemble.predict(X_test)\n",
        "\n",
        "# Оцениваем качество модели\n",
        "acc_an = accuracy_score(y_test, y_pred)\n",
        "cm_an = confusion_matrix(y_test, y_pred)\n",
        "\n",
        "# Печатаем точность и матрицу ошибок\n",
        "print(f'Accuracy: {acc_an}')\n",
        "print(f'Confusion matrix: \\n{cm_an}')"
      ],
      "metadata": {
        "colab": {
          "base_uri": "https://localhost:8080/"
        },
        "id": "3a8cf-u-63_6",
        "outputId": "6fd0656f-624e-4040-a921-149eef910b24"
      },
      "execution_count": null,
      "outputs": [
        {
          "output_type": "stream",
          "name": "stdout",
          "text": [
            "Accuracy: 0.6654465592972182\n",
            "Confusion matrix: \n",
            "[[   2   96  194]\n",
            " [   3  541 1071]\n",
            " [   1  463 3093]]\n"
          ]
        },
        {
          "output_type": "stream",
          "name": "stderr",
          "text": [
            "/usr/local/lib/python3.10/dist-packages/sklearn/linear_model/_logistic.py:458: ConvergenceWarning: lbfgs failed to converge (status=1):\n",
            "STOP: TOTAL NO. of ITERATIONS REACHED LIMIT.\n",
            "\n",
            "Increase the number of iterations (max_iter) or scale the data as shown in:\n",
            "    https://scikit-learn.org/stable/modules/preprocessing.html\n",
            "Please also refer to the documentation for alternative solver options:\n",
            "    https://scikit-learn.org/stable/modules/linear_model.html#logistic-regression\n",
            "  n_iter_i = _check_optimize_result(\n"
          ]
        }
      ]
    },
    {
      "cell_type": "markdown",
      "source": [
        "# 4. Сравниваем 6 моделей (LinearSVC, логистическая регрессия, наивный Байесовский классификатор, решающие деревья, случайный лес, ансамбль)"
      ],
      "metadata": {
        "id": "02lKdAaO36lH"
      }
    },
    {
      "cell_type": "code",
      "source": [
        "# Создаем список моделей и их метрики качества\n",
        "models = ['LinearSVC', 'LogisticRegression', 'NaiveBayes', 'DecisionTree', 'RandomForest', 'Ensemble']\n",
        "accuracies = [acc_svc, acc_lr, acc_nb, acc_dt, acc_rf, acc_an]\n",
        "\n",
        "# Строим график\n",
        "plt.figure(figsize=(8,6))\n",
        "plt.scatter(models, accuracies, s=100, edgecolors='black')\n",
        "plt.ylim(0, 1.0)\n",
        "plt.title('Comparison of Model Accuracies')\n",
        "plt.xlabel('Models')\n",
        "plt.ylabel('Accuracy')\n",
        "plt.show()"
      ],
      "metadata": {
        "colab": {
          "base_uri": "https://localhost:8080/",
          "height": 564
        },
        "id": "SHyMzFEb4ILy",
        "outputId": "3ac4ba73-10e0-41c2-8b25-0552676acd77"
      },
      "execution_count": null,
      "outputs": [
        {
          "output_type": "display_data",
          "data": {
            "text/plain": [
              "<Figure size 800x600 with 1 Axes>"
            ],
            "image/png": "[encoded data removed]"
          },
          "metadata": {}
        }
      ]
    },
    {
      "cell_type": "markdown",
      "source": [
        "Делаем вывод о том, что даже ансамбль оказался хуже простой логистической регрессии. Таким образом в дальнейшем будем работать с моделью логистической регрессии."
      ],
      "metadata": {
        "id": "riIK9a05-nVw"
      }
    },
    {
      "cell_type": "markdown",
      "source": [
        "# 5. Изучаем результаты, чтобы понять, какие слова или фразы наиболее сильно влияют на результаты настроения, чтобы использовать эту информацию для улучшения модели в будущем."
      ],
      "metadata": {
        "id": "BaK0TTKJA-sb"
      }
    },
    {
      "cell_type": "markdown",
      "source": [
        "Эти слова и фразы являются наиболее \"отрицательными\" для предсказания настроения. То есть, когда в тексте встречаются эти слова или фразы, модель склонна отнести текст к более негативному настроению.\n",
        "\n",
        "Например, слово \"подавленные\" имеет вес -1.42, что говорит о том, что его наличие в тексте сильнее всего связано с отрицательным настроением. Слово \"волшебству\" имеет вес -1.29, также указывая на его связь с отрицательным настроением. А слово \"настоящую\" имеет вес -0.81, что может указывать на то, что его наличие в тексте слабо связано с положительным настроением."
      ],
      "metadata": {
        "id": "TUnbS0eeV2ou"
      }
    },
    {
      "cell_type": "code",
      "source": [
        "# Получаем веса признаков\n",
        "feature_weights = lr_model.coef_[0]\n",
        "\n",
        "# Получаем словарь признаков\n",
        "feature_names = vectorizer.vocabulary_\n",
        "\n",
        "# Сортируем признаки по весу (от меньшего к большему)\n",
        "features = sorted(zip(feature_weights, feature_names), key=lambda x: x[0])\n",
        "\n",
        "# Выводим наиболее влиятельные признаки (слова и фразы)\n",
        "for weight, feature in features[:10]:\n",
        "    print(f'{feature} ({weight:.2f})')"
      ],
      "metadata": {
        "colab": {
          "base_uri": "https://localhost:8080/"
        },
        "id": "Ou4qq3TvBGWG",
        "outputId": "8503ca45-8e7f-4d3c-bf70-1951f3437529"
      },
      "execution_count": null,
      "outputs": [
        {
          "output_type": "stream",
          "name": "stdout",
          "text": [
            "подавленные (-1.42)\n",
            "волшебству (-1.29)\n",
            "николаевич (-1.01)\n",
            "обществе (-0.91)\n",
            "невнятные (-0.86)\n",
            "истекающий (-0.85)\n",
            "бабушкамдедушкам (-0.84)\n",
            "дефицит (-0.83)\n",
            "цветастой (-0.81)\n",
            "настоящую (-0.81)\n"
          ]
        }
      ]
    },
    {
      "cell_type": "markdown",
      "source": [
        "Судя по этому списку, некоторые из этих слов, такие как \"мечей\", \"летчик\" и \"земли\", могут относиться к определенным тематическим областям, например, к фильмам о средневековых рыцарях, авиации или к фильмам о природе. Другие слова, такие как \"галаприём\" и \"разгульное\", могут быть более уникальными и представлять собой характеристики конкретных фильмов или их элементов."
      ],
      "metadata": {
        "id": "vC4LBFCUWJT_"
      }
    },
    {
      "cell_type": "code",
      "source": [
        "# Получаем веса признаков\n",
        "feature_weights = lr_model.coef_[0]\n",
        "\n",
        "# Получаем словарь признаков\n",
        "feature_names = vectorizer.vocabulary_\n",
        "\n",
        "# Сортируем признаки по весу (от меньшего к большему)\n",
        "features = sorted(zip(feature_weights, feature_names), key=lambda x: x[0],reverse=True)\n",
        "\n",
        "# Выводим наиболее влиятельные признаки (слова и фразы)\n",
        "for weight, feature in features[:10]:\n",
        "    print(f'{feature} ({weight:.2f})')"
      ],
      "metadata": {
        "colab": {
          "base_uri": "https://localhost:8080/"
        },
        "id": "uQA941WmSoQb",
        "outputId": "ddb10ef6-70d7-48b7-ade8-8f0eda2ae9b2"
      },
      "execution_count": null,
      "outputs": [
        {
          "output_type": "stream",
          "name": "stdout",
          "text": [
            "мечей (1.46)\n",
            "галаприём (1.40)\n",
            "помножены (1.30)\n",
            "устного (1.29)\n",
            "летчик (1.25)\n",
            "помещениях (1.23)\n",
            "перечитывания (1.20)\n",
            "разгульное (1.19)\n",
            "маскировку (1.18)\n",
            "земли (1.15)\n"
          ]
        }
      ]
    },
    {
      "cell_type": "markdown",
      "source": [
        "Построим график положительной и отрицательной кореляции весов слов"
      ],
      "metadata": {
        "id": "9T-btqitWR6q"
      }
    },
    {
      "cell_type": "code",
      "source": [
        "# Создаем список слов с отрицательной корреляцией\n",
        "neg_features = sorted(features)[:10]\n",
        "\n",
        "# Создаем список слов с положительной корреляцией\n",
        "pos_features = sorted(features)[-10:]\n",
        "\n",
        "# Создаем списки весов и признаков для отрицательных и положительных слов\n",
        "neg_weights = [x[0] for x in neg_features]\n",
        "neg_names = [x[1] for x in neg_features]\n",
        "pos_weights = [x[0] for x in pos_features]\n",
        "pos_names = [x[1] for x in pos_features]\n",
        "\n",
        "# Создаем график\n",
        "plt.figure(figsize=(12, 6))\n",
        "plt.barh(neg_names, neg_weights, color='red')\n",
        "plt.barh(pos_names, pos_weights, color='green')\n",
        "plt.title('Слова из датафрейма с отрицательной и положительной кореляцией')\n",
        "plt.xlabel('Weight')\n",
        "plt.ylabel('Word')\n",
        "plt.gca().invert_yaxis()\n",
        "plt.show()"
      ],
      "metadata": {
        "colab": {
          "base_uri": "https://localhost:8080/",
          "height": 564
        },
        "id": "IZn-C6DuWMok",
        "outputId": "ba563a1e-d2b2-4b19-fa65-5fe057b0cc6e"
      },
      "execution_count": null,
      "outputs": [
        {
          "output_type": "display_data",
          "data": {
            "text/plain": [
              "<Figure size 1200x600 with 1 Axes>"
            ],
            "image/png": "[encoded data removed]"
          },
          "metadata": {}
        }
      ]
    },
    {
      "cell_type": "markdown",
      "source": [
        "На основе этой информации можно улучшить модель, например, путем добавления новых признаков, связанных с важными словами или фразами, или изменения параметров модели, чтобы учитывать важность определенных признаков."
      ],
      "metadata": {
        "id": "gX3eMgJNgHtR"
      }
    }
  ]
}