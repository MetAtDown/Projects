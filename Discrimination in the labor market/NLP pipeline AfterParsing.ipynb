{
 "cells": [
  {
   "cell_type": "code",
   "execution_count": 1,
   "id": "cdea444f-9d23-4e7a-8e0e-1cff0a9ac499",
   "metadata": {},
   "outputs": [
    {
     "name": "stderr",
     "output_type": "stream",
     "text": [
      "[nltk_data] Downloading package punkt to\n",
      "[nltk_data]     C:\\Users\\maxso\\AppData\\Roaming\\nltk_data...\n",
      "[nltk_data]   Package punkt is already up-to-date!\n",
      "[nltk_data] Downloading package stopwords to\n",
      "[nltk_data]     C:\\Users\\maxso\\AppData\\Roaming\\nltk_data...\n",
      "[nltk_data]   Package stopwords is already up-to-date!\n",
      "[nltk_data] Downloading package wordnet to\n",
      "[nltk_data]     C:\\Users\\maxso\\AppData\\Roaming\\nltk_data...\n",
      "[nltk_data]   Package wordnet is already up-to-date!\n"
     ]
    }
   ],
   "source": [
    "%run Functions.ipynb"
   ]
  },
  {
   "cell_type": "code",
   "execution_count": 2,
   "id": "4cd83b9f-027c-4c29-b298-79251e8535d7",
   "metadata": {},
   "outputs": [],
   "source": [
    "df = pd.read_csv('vacancies.csv')"
   ]
  },
  {
   "cell_type": "code",
   "execution_count": 3,
   "id": "1da394a4-3d2c-4441-ab7c-f601efb8d254",
   "metadata": {},
   "outputs": [],
   "source": [
    "# Обрабатываем колонку \"Описание\" и удаляем дубли и страны которых встречается меньше 10\n",
    "df_dropna = (df[df['Описание'] != 'Описание не найдено']\n",
    "             .assign(Описание=lambda x: x['Описание'].apply(clean_description_to_plain_text))\n",
    "             .groupby('Страна')\n",
    "             .filter(lambda x: len(x) >= 10)\n",
    "             .drop_duplicates(subset='ID')\n",
    "             .reset_index(drop=True))\n",
    "\n",
    "# Сохраняем результат в CSV\n",
    "df_dropna.to_csv(\"vacancies_cleaned.csv\", index=False, encoding=\"utf-8-sig\", quotechar='\"')"
   ]
  },
  {
   "cell_type": "code",
   "execution_count": 4,
   "id": "a011c633-1e56-4998-bd04-183d00080a2c",
   "metadata": {},
   "outputs": [],
   "source": [
    "df_clean = pd.read_csv('vacancies_cleaned.csv')\n",
    "# Добавляем новые колонки с числовыми значениями зарплаты \"на руки\" и валютой\n",
    "df_clean[['Зарплата на руки (числовое выражение)', 'Валюта']] = df_clean['Зарплата'].apply(\n",
    "    lambda x: pd.Series(convert_salary_to_numeric(x))\n",
    ")\n",
    "\n",
    "# Применение функции которая считает зп \n",
    "df_clean['Зарплата, net., ₽'] = df_clean.apply(convert_to_rub, axis=1)\n",
    "\n",
    "# Преобразуем колонку 'Дата публикации' в формат datetime\n",
    "df_clean['Дата публикации'] = pd.to_datetime(df_clean['Дата публикации'])\n",
    "\n",
    "# Создаем новую колонку с датой в формате yyyy-mm-dd\n",
    "df_clean['Дата публикации (yyyy-mm-dd)'] = df_clean['Дата публикации'].dt.date\n",
    "\n",
    "# Очищаем должности\n",
    "df_clean['Кого ищут'] = df_clean['Кого ищут'].apply(clean_description_to_plain_text)\n",
    "\n",
    "# Создание новой колонки 'Страна (full_name)' в df_clean\n",
    "df_clean['Страна (full_name)'] = df_clean['Страна'].map(country_mapping)\n",
    "\n",
    "# Создание новой колонки 'Тип занятости (full name)' в df_clean\n",
    "df_clean['Тип занятости (full name)'] = df_clean['Тип занятости'].map(employment_type_mapping)\n",
    "\n",
    "# Применение функции очистки текста и лемматизации, результат в новые колонки\n",
    "df_clean['Описание (preProcess)'] = df_clean['Описание'].apply(preprocess_text)\n",
    "df_clean['Кого ищут (preProcess)'] = df_clean['Кого ищут'].apply(preprocess_text)\n",
    "df_clean.to_csv(\"vacancies_preprocess.csv\", index=False, encoding=\"utf-8-sig\", quotechar='\"')"
   ]
  },
  {
   "cell_type": "code",
   "execution_count": 5,
   "id": "f2386661-c8e7-4883-b07c-532c34cdc77f",
   "metadata": {},
   "outputs": [],
   "source": [
    "df_preprocess = pd.read_csv('vacancies_preprocess.csv')"
   ]
  },
  {
   "cell_type": "code",
   "execution_count": 6,
   "id": "7302c034-3799-4579-8a59-3a204794bfc0",
   "metadata": {},
   "outputs": [],
   "source": [
    "# Применение функции к колонке и добавление новой колонки\n",
    "df_preprocess['Вид дискриминации'] = df_preprocess['Описание (preProcess)'].apply(determine_discrimination_categories)\n",
    "df_preprocess[\"Должность\"] = df_preprocess[\"Кого ищут (preProcess)\"].apply(categorize_job_vectorized)\n",
    "df_preprocess['Дата публикации (yyyy-mm-dd)'] = pd.to_datetime(df_preprocess['Дата публикации (yyyy-mm-dd)'])\n",
    "df_preprocess['Зарплата, net., ₽'] = df_preprocess['Зарплата, net., ₽'].apply(convert_to_integer)"
   ]
  },
  {
   "cell_type": "code",
   "execution_count": 7,
   "id": "ffaf7fe6-d249-46d4-9d80-a7b61549feae",
   "metadata": {},
   "outputs": [
    {
     "data": {
      "text/plain": [
       "Вид дискриминации\n",
       "Не найдено дискриминации                                                       979\n",
       "Иные виды дискриминации                                                        153\n",
       "Этническая дискриминация                                                        99\n",
       "Возрастная дискриминация                                                        71\n",
       "Возрастная дискриминация, Этническая дискриминация                              15\n",
       "Иные виды дискриминации, Возрастная дискриминация                               15\n",
       "Иные виды дискриминации, Этническая дискриминация                               14\n",
       "Гендерная дискриминация                                                          5\n",
       "Иные виды дискриминации, Возрастная дискриминация, Этническая дискриминация      4\n",
       "Name: count, dtype: int64"
      ]
     },
     "execution_count": 7,
     "metadata": {},
     "output_type": "execute_result"
    }
   ],
   "source": [
    "df_preprocess['Вид дискриминации'].value_counts()"
   ]
  },
  {
   "cell_type": "code",
   "execution_count": null,
   "id": "dc88c962-5dc5-45e1-9a28-f26b08ca99e2",
   "metadata": {},
   "outputs": [],
   "source": [
    "# итоговый датасет\n",
    "df_final = df_preprocess[\n",
    "    [\n",
    "        'ID',\n",
    "        'Кого ищут',\n",
    "        'Описание',\n",
    "        'Описание (preProcess)',\n",
    "        'Компания',\n",
    "        'Город',\n",
    "        'Страна (full_name)',\n",
    "        'Зарплата, net., ₽',\n",
    "        'Дата публикации (yyyy-mm-dd)',\n",
    "        'Тип занятости (full name)',\n",
    "        'Вид дискриминации',\n",
    "        'Должность'\n",
    "    ]\n",
    "].rename(columns={\n",
    "    'Страна (full_name)': 'Страна',\n",
    "    'Дата публикации (yyyy-mm-dd)': 'Дата публикации',\n",
    "    'Тип занятости (full name)': 'Тип занятости'\n",
    "})\n",
    "\n",
    "# Замена \"Зарплата не указана\" на NaN\n",
    "df_final['Зарплата, net., ₽'] = df_final['Зарплата, net., ₽'].replace('Зарплата не указана', pd.NA)\n",
    "\n",
    "# Преобразование колонки в числовой тип\n",
    "df_final['Зарплата, net., ₽'] = pd.to_numeric(df_final['Зарплата, net., ₽'], errors='coerce')\n",
    "\n",
    "# Вычисление Z-score\n",
    "df_final['z_score'] = stats.zscore(df_final['Зарплата, net., ₽'].dropna())\n",
    "\n",
    "# Определение выбросов (значения с Z-score больше 3 или меньше -3)\n",
    "outliers = df_final[(df_final['z_score'] > 3) | (df_final['z_score'] < -3)]\n",
    "\n",
    "# Удаление выбросов\n",
    "df_final = df_final[~df_final.index.isin(outliers.index)]\n",
    "\n",
    "# Сброс индекса\n",
    "df_final = df_final.reset_index(drop=True)\n",
    "\n",
    "# Замена NaN на среднее значение по категории \"Должность\"\n",
    "mean_salary_by_position = df_final.groupby('Должность')['Зарплата, net., ₽'].transform('mean')\n",
    "df_final['Зарплата, net., ₽'].fillna(mean_salary_by_position, inplace=True)\n",
    "\n",
    "# Если после группировки есть пропуски (например, все значения в группе NaN), можно заменить их на общее среднее\n",
    "overall_mean_salary = df_final['Зарплата, net., ₽'].mean()\n",
    "df_final['Зарплата, net., ₽'].fillna(overall_mean_salary, inplace=True)\n",
    "\n",
    "# Округление до целого числа\n",
    "df_final['Зарплата, net., ₽'] = df_final['Зарплата, net., ₽'].round().astype(int)\n",
    "\n",
    "# Удаление временной колонки z_score\n",
    "df_final = df_final.drop(columns=['z_score'])\n",
    "\n",
    "# Разделяем лемматизированные слова запятыми\n",
    "df_final['Описание (preProcess)'] = df_final['Описание (preProcess)'].apply(words_to_comma_separated)\n",
    "\n",
    "# Сохранение DataFrame в CSV\n",
    "df_final.to_csv(\"vacancies_final.csv\", index=False, encoding=\"utf-8-sig\", quotechar='\"')"
   ]
  }
 ],
 "metadata": {
  "kernelspec": {
   "display_name": "Python 3 (ipykernel)",
   "language": "python",
   "name": "python3"
  },
  "language_info": {
   "codemirror_mode": {
    "name": "ipython",
    "version": 3
   },
   "file_extension": ".py",
   "mimetype": "text/x-python",
   "name": "python",
   "nbconvert_exporter": "python",
   "pygments_lexer": "ipython3",
   "version": "3.12.5"
  }
 },
 "nbformat": 4,
 "nbformat_minor": 5
}
